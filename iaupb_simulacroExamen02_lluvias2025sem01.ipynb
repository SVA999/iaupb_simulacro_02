{
  "nbformat": 4,
  "nbformat_minor": 0,
  "metadata": {
    "colab": {
      "provenance": []
    },
    "kernelspec": {
      "name": "python3",
      "display_name": "Python 3 (ipykernel)",
      "language": "python"
    },
    "language_info": {
      "name": "python"
    }
  },
  "cells": [
    {
      "cell_type": "markdown",
      "source": [
        "# **Universidad Pontificia Bolivariana**\n",
        "Facultad Ingeniería en Energía, Computación y TIC    \n",
        "Programas de Ingeniería en Sistemas e Informática – Ingeniería en Ciencia de Datos   \n",
        "**Curso de Inteligencia Artificial**   \n",
        "NRC: 30188, 31393 – Periodo 202520"
      ],
      "metadata": {
        "id": "7SmX9jejrUV_"
      }
    },
    {
      "cell_type": "markdown",
      "source": [
        "## **Simulacro Examen 02**\n",
        "\n",
        "**Descripción del problema**  \n",
        "\n",
        "Eres un científico de datos trabajando para el Instituto de Hidrología, Meteorología y Estudios Ambientales (IDEAM). Te han asignado analizar los datos de precipitaciones del Aeropuerto José María Córdova en Medellín durante el primer semestre de 2025. Los datos provienen de sensores automáticos que registran mediciones cada vez que detectan precipitación, excluyendo valores de 0 mm.\n",
        "\n",
        "Los datos que te entregan están en el archivo `precipitacion_2025sem01_JoseMariaCordova.csv`\n",
        "\n",
        "En una inspección rápida encuentras:  \n",
        "\n",
        "- Registros: 1,600 mediciones\n",
        "- Período: enero - junio 2025\n",
        "- Variables: FechaObservacion, ValorObservado (mm)\n",
        "- Características: Sin valores cero, posibles duplicados, formato mixto de fechas\n",
        "- Frecuencia de medición: cada dos minutos\n",
        "\n",
        "Adicionalmente:  \n",
        "- Encuentras gaps o brechas en las mediciones, las cuales corresponden a los momentos en los cuales no se registraron lluvias (valorObservado = 0 mm)\n",
        "\n",
        "- Encuentras outliers muy elevados pero que ***no corresponden a errores de medición***. Estos datos deben considerarse como mediciones reales en momentos donde las lluvias fueron intensas ***y no deben eliminarse***.\n",
        "\n"
      ],
      "metadata": {
        "id": "jbdDm1aBrbdG"
      }
    },
    {
      "cell_type": "markdown",
      "source": [
        "**Etapa 1: Lectura y procesamiento inicial- 10%**\n",
        "\n",
        "1. Cargar el archivo de datos en un dataframe.\n",
        "2. Resolver el problema de formatos mixtos de las fechas.\n",
        "3. Eliminar duplicados temporales (misma fecha/hora y valor)"
      ],
      "metadata": {
        "id": "rXKuq0_leC8-"
      }
    },
    {
      "cell_type": "code",
      "metadata": {
        "colab": {
          "base_uri": "https://localhost:8080/"
        },
        "id": "ZzkhuyiXdqCi",
        "outputId": "ac5e78b2-6941-416d-9df2-a92d78cdf92f",
        "jupyter": {
          "is_executing": true
        }
      },
      "source": [
        "# 1.1 Carga y primera inspección\n",
        "print(\"1.1 CARGA Y PRIMERA INSPECCIÓN\")\n",
        "print(\"-\" * 35)\n",
        "\n",
        "import pandas as pd\n",
        "\n",
        "# Cargar los datos\n",
        "df = pd.read_csv('precipitacion_2025sem01_JoseMariaCordova.csv', sep=';', encoding='utf-8')\n",
        "\n",
        "print(f\"✓ Dataset cargado exitosamente\")\n",
        "print(f\"✓ Dimensiones del dataset: {df.shape[0]} filas × {df.shape[1]} columnas\")\n",
        "\n",
        "# Información básica del dataset\n",
        "print(\"\\nPrimeras 5 filas:\")\n",
        "print(df.head())\n",
        "\n",
        "print(\"\\nÚltimas 5 filas:\")\n",
        "print(df.tail())\n",
        "\n",
        "print(\"\\nTipos de datos:\")\n",
        "print(df.dtypes)\n",
        "\n",
        "print(\"\\nNombres de columnas:\")\n",
        "print(df.columns.tolist())"
      ],
      "outputs": [
        {
          "output_type": "stream",
          "name": "stdout",
          "text": [
            "1.1 CARGA Y PRIMERA INSPECCIÓN\n",
            "-----------------------------------\n",
            "✓ Dataset cargado exitosamente\n",
            "✓ Dimensiones del dataset: 1600 filas × 2 columnas\n",
            "\n",
            "Primeras 5 filas:\n",
            "  FechaObservacion  ValorObservado\n",
            "0  3/01/2025 16:00             0.4\n",
            "1  3/01/2025 21:00             0.4\n",
            "2   4/01/2025 0:14             0.4\n",
            "3   4/01/2025 0:26             0.4\n",
            "4   4/01/2025 2:30             0.4\n",
            "\n",
            "Últimas 5 filas:\n",
            "            FechaObservacion  ValorObservado\n",
            "1595  06/27/2025 12:26:00 PM             1.2\n",
            "1596  06/27/2025 12:28:00 PM             1.2\n",
            "1597  06/27/2025 12:30:00 PM             0.4\n",
            "1598  06/27/2025 12:32:00 PM             0.4\n",
            "1599  06/27/2025 12:40:00 PM             0.4\n",
            "\n",
            "Tipos de datos:\n",
            "FechaObservacion     object\n",
            "ValorObservado      float64\n",
            "dtype: object\n",
            "\n",
            "Nombres de columnas:\n",
            "['FechaObservacion', 'ValorObservado']\n"
          ]
        }
      ],
      "execution_count": 19
    },
    {
      "cell_type": "code",
      "source": [
        "# 1.2 Evaluación de calidad relacionada con el formato de fechas\n",
        "print(\"1.2 EVALUACIÓN DE CALIDAD RELACIONADA CON EL FORMATO DE FECHAS\")\n",
        "print(\"-\" * 50)\n",
        "\n",
        "registros_iniciales = len(df)\n",
        "print(f\"\\nComenzamos el proceso con {registros_iniciales} registros.\\n\")\n",
        "\n",
        "# Datos faltantes\n",
        "print(\"Datos faltantes por columna:\")\n",
        "missing_data = df.isnull().sum()\n",
        "for col in df.columns:\n",
        "    missing_count = missing_data[col]\n",
        "    missing_pct = (missing_count / len(df)) * 100\n",
        "    print(f\"  - {col}: {missing_count} ({missing_pct:.2f}%)\")\n",
        "\n",
        "# Crear copia para no modificar original\n",
        "df_procesado = df.copy()\n",
        "\n",
        "# Conversión de fecha y validación de consistencia\n",
        "print(f\"\\nConversión y validación de fechas:\")\n",
        "try:\n",
        "    df_procesado['FechaObservacion'] = pd.to_datetime(df_procesado['FechaObservacion'])\n",
        "    print(\"✓ Conversión de fechas exitosa\")\n",
        "\n",
        "except Exception as e:\n",
        "    print(f\"✗ Error en conversión de fechas: Posible inconsistencia de formato\\n\")\n",
        "\n",
        "try:\n",
        "    print('Intentando conversión de fechas con formato mezclado... un momento por favor!')\n",
        "    # Convertir la columna de FechaObservacion a datetime, previendo formatos mezclados\n",
        "    df_procesado['FechaObservacion'] = pd.to_datetime(df_procesado['FechaObservacion'], format='mixed')\n",
        "    print(\"✓ Conversión de fechas exitosa\")\n",
        "\n",
        "    # Rango temporal\n",
        "    fecha_min = df_procesado['FechaObservacion'].min()\n",
        "    fecha_max = df_procesado['FechaObservacion'].max()\n",
        "    duracion = fecha_max - fecha_min\n",
        "\n",
        "    print(f\"✓ Rango temporal: {fecha_min} a {fecha_max}\")\n",
        "    print(f\"✓ Duración total: {duracion.days} días, {duracion.seconds//3600} horas\")\n",
        "\n",
        "except Exception as e:\n",
        "    print(f\"✗ Error en conversión de fechas: {e}\")\n",
        "\n"
      ],
      "metadata": {
        "colab": {
          "base_uri": "https://localhost:8080/"
        },
        "id": "sLhdpTzReDxn",
        "outputId": "a1b1e188-9176-470f-f1fa-1bb89c0303ae"
      },
      "execution_count": 20,
      "outputs": [
        {
          "output_type": "stream",
          "name": "stdout",
          "text": [
            "1.2 EVALUACIÓN DE CALIDAD RELACIONADA CON EL FORMATO DE FECHAS\n",
            "--------------------------------------------------\n",
            "\n",
            "Comenzamos el proceso con 1600 registros.\n",
            "\n",
            "Datos faltantes por columna:\n",
            "  - FechaObservacion: 0 (0.00%)\n",
            "  - ValorObservado: 0 (0.00%)\n",
            "\n",
            "Conversión y validación de fechas:\n",
            "✗ Error en conversión de fechas: Posible inconsistencia de formato\n",
            "\n",
            "Intentando conversión de fechas con formato mezclado... un momento por favor!\n",
            "✓ Conversión de fechas exitosa\n",
            "✓ Rango temporal: 2025-01-03 13:24:00 a 2025-06-27 13:02:00\n",
            "✓ Duración total: 174 días, 23 horas\n"
          ]
        }
      ]
    },
    {
      "cell_type": "code",
      "source": [
        "# 1.3 Evaluación de calidad relacionada con duplicados exactos y temporales\n",
        "print(\"1.3 EVALUACIÓN DE CALIDAD RELACIONADA CON DUPLICADOS EXACTOS Y TEMPORALES\")\n",
        "print(\"-\" * 80)\n",
        "\n",
        "# Duplicados exactos (misma fecha y valor de medición)\n",
        "print(\"\\nRegistros duplicados exactos (misma fecha, hora y valor):\")\n",
        "duplicados_exactos = df_procesado.duplicated().sum()\n",
        "print(f\"\\nDuplicados exactos encontrados: {duplicados_exactos} \\n\")\n",
        "\n",
        "if duplicados_exactos > 0:\n",
        "    print(\"Ejemplo de duplicados exactos:\")\n",
        "    ejemplos = df_procesado[df_procesado.duplicated(keep=False)].head(6)\n",
        "    print(ejemplos[['FechaObservacion', 'ValorObservado']])\n",
        "\n",
        "    # Eliminar duplicados exactos\n",
        "    df_procesado = df_procesado.drop_duplicates().reset_index(drop=True) # Reset index here\n",
        "    print(f\"✓ Eliminados {duplicados_exactos} duplicados exactos\")\n",
        "\n",
        "# Duplicados temporales (misma fecha pero diferente valor de medición)\n",
        "print(\"\\nRegistros duplicados temporales (misma fecha y hora pero diferente valor):\")\n",
        "\n",
        "duplicados_temporales = df_procesado.duplicated(subset=['FechaObservacion'], keep=False)\n",
        "num_duplicados_temporales = duplicados_temporales.sum()\n",
        "\n",
        "if num_duplicados_temporales > 0:\n",
        "    print(f\"\\nDuplicados temporales encontrados: {num_duplicados_temporales}\")\n",
        "    print(\"Ejemplo de duplicados temporales:\")\n",
        "    ejemplos_temp = df_procesado[duplicados_temporales].head(6)\n",
        "    print(ejemplos_temp[['FechaObservacion', 'ValorObservado']])\n",
        "\n",
        "    # Estrategia: mantener el promedio para cada timestamp\n",
        "    print(\"Aplicando estrategia: promedio por timestamp\")\n",
        "    df_procesado = df_procesado.groupby('FechaObservacion')['ValorObservado'].mean().reset_index()\n",
        "\n",
        "    duplicados_resueltos = num_duplicados_temporales - len(df_procesado[df_procesado.duplicated(subset=['FechaObservacion'])])\n",
        "    print(f\"✓ Resueltos {duplicados_resueltos} duplicados temporales mediante promedio\")\n",
        "else:\n",
        "    print(\"✓ No se encontraron duplicados temporales\")\n",
        "\n",
        "registros_finales = len(df_procesado)\n",
        "eliminados = registros_iniciales - registros_finales\n",
        "\n",
        "print(f\"\\nResumen eliminación de duplicados:\")\n",
        "print(f\"  Registros iniciales: {registros_iniciales:,}\")\n",
        "print(f\"  Registros finales: {registros_finales:,}\")\n",
        "print(f\"  Registros eliminados: {eliminados:,} ({eliminados/registros_iniciales*100:.2f}%)\")\n",
        "\n",
        "# Valores únicos por columna\n",
        "print(f\"\\nValores únicos por columna:\")\n",
        "for col in df.columns:\n",
        "  print(f\"{col}: {df[col].nunique()} valores únicos\")\n",
        "\n",
        "# Validación de valores de medición de precipitaciones\n",
        "print(f\"\\nValidación de valores de medicion de precipitaciones:\")\n",
        "medicion_min = df_procesado['ValorObservado'].min()\n",
        "medicion_max = df_procesado['ValorObservado'].max()\n",
        "medicion_moda = df_procesado['ValorObservado'].mode()[0]\n",
        "\n",
        "print(f\"✓ Medición mínima: {medicion_min} mm de lluvia\")\n",
        "print(f\"✓ Medición máxima: {medicion_max} mm de lluvia\")\n",
        "print(f\"✓ Medición Moda (más frecuente): {medicion_moda} mm\")"
      ],
      "metadata": {
        "id": "TGfNWiIbgr1O",
        "colab": {
          "base_uri": "https://localhost:8080/"
        },
        "outputId": "600ce21b-0017-41d0-cbeb-68f6b3188d62"
      },
      "execution_count": 21,
      "outputs": [
        {
          "output_type": "stream",
          "name": "stdout",
          "text": [
            "1.3 EVALUACIÓN DE CALIDAD RELACIONADA CON DUPLICADOS EXACTOS Y TEMPORALES\n",
            "--------------------------------------------------------------------------------\n",
            "\n",
            "Registros duplicados exactos (misma fecha, hora y valor):\n",
            "\n",
            "Duplicados exactos encontrados: 45 \n",
            "\n",
            "Ejemplo de duplicados exactos:\n",
            "      FechaObservacion  ValorObservado\n",
            "52 2025-01-03 13:24:00             0.4\n",
            "53 2025-01-03 13:24:00             0.4\n",
            "58 2025-01-04 01:20:00             0.4\n",
            "59 2025-01-04 01:20:00             0.4\n",
            "60 2025-01-04 06:20:00             0.4\n",
            "61 2025-01-04 06:20:00             0.4\n",
            "✓ Eliminados 45 duplicados exactos\n",
            "\n",
            "Registros duplicados temporales (misma fecha y hora pero diferente valor):\n",
            "✓ No se encontraron duplicados temporales\n",
            "\n",
            "Resumen eliminación de duplicados:\n",
            "  Registros iniciales: 1,600\n",
            "  Registros finales: 1,555\n",
            "  Registros eliminados: 45 (2.81%)\n",
            "\n",
            "Valores únicos por columna:\n",
            "FechaObservacion: 1555 valores únicos\n",
            "ValorObservado: 31 valores únicos\n",
            "\n",
            "Validación de valores de medicion de precipitaciones:\n",
            "✓ Medición mínima: 0.2 mm de lluvia\n",
            "✓ Medición máxima: 27.1 mm de lluvia\n",
            "✓ Medición Moda (más frecuente): 0.4 mm\n"
          ]
        }
      ]
    },
    {
      "cell_type": "markdown",
      "source": [
        "**Etapa 2: Identificar máxima temporada seca. 20%**\n",
        "\n",
        "Identifique cual es el gap más largo sin mediciones. Este valor corresponderá a la temporada seca más larga durante el semestre.\n",
        "\n",
        "**CONCEPTO CLAVE**:    \n",
        "La ausencia de mediciones indica ausencia de lluvia, por lo tanto, el gap más largo entre mediciones consecutivas representa la temporada seca más extensa.\n"
      ],
      "metadata": {
        "id": "8JOhjrJfvtRo"
      }
    },
    {
      "cell_type": "code",
      "source": [
        "# 2.1. Análisis univariado - Variables temporales - Fecha de Observación\n",
        "\n",
        "print(\"\\n2.1. Análisis univariado - Variables temporales - gap más largo sin mediciones\")\n",
        "print(\"-\" * 80)\n",
        "\n",
        "# Ordenar por fecha\n",
        "df_ordenado = df_procesado.sort_values('FechaObservacion').reset_index(drop=True)\n",
        "\n",
        "# Calcular diferencias temporales\n",
        "df_ordenado['diff_tiempo'] = df_ordenado['FechaObservacion'].diff()\n",
        "\n",
        "intervalos = df_ordenado['diff_tiempo'].dropna()\n",
        "maximo_gap = intervalos.max()\n",
        "indice_maximo_gap = intervalos.idxmax()\n",
        "\n",
        "fin_temporada_seca = df_ordenado.loc[indice_maximo_gap, 'FechaObservacion']\n",
        "inicio_temporada_seca = fin_temporada_seca - maximo_gap\n",
        "\n",
        "print(f\"✓ Gap más largo sin mediciones: {maximo_gap}\")\n",
        "print(f\"   Desde: {inicio_temporada_seca}\")\n",
        "print(f\"   Hasta: {fin_temporada_seca}\")"
      ],
      "metadata": {
        "colab": {
          "base_uri": "https://localhost:8080/"
        },
        "id": "DIiXPhiCv6OP",
        "outputId": "b7f85871-357d-4349-d1ae-f036be61ed8f"
      },
      "execution_count": 77,
      "outputs": [
        {
          "output_type": "stream",
          "name": "stdout",
          "text": [
            "\n",
            "2.1. Análisis univariado - Variables temporales - gap más largo sin mediciones\n",
            "--------------------------------------------------------------------------------\n",
            "✓ Gap más largo sin mediciones: 22 days 23:30:00\n",
            "   Desde: 2025-02-04 23:46:00\n",
            "   Hasta: 2025-02-27 23:16:00\n"
          ]
        }
      ]
    },
    {
      "cell_type": "markdown",
      "source": [
        "**Etapa 3: Identificar máxima duración de un evento de lluvia. 20%**\n",
        "\n",
        "Identifique cuál es la duración máxima de un evento de lluvia según el conjunto de datos suministrado.\n",
        "\n",
        "Un evento de lluvia es aquel que desde el comienzo hasta el fin, hubo mediciones consecutivas cada dos minutos.\n",
        "\n",
        "Por ejemplo, el 2 de abril de 2025 entre las 17:40 y las 18:00 hubo mediciones consecutivas cada dos minutos. Ese evento de lluvia tuvo una duración de 20 minutos.\n"
      ],
      "metadata": {
        "id": "vdjtuvJV46Hl"
      }
    },
    {
      "cell_type": "code",
      "source": [
        "# 3.1. Análisis univariado - Variables temporales - Fecha de Observación\n",
        "\n",
        "print(\"\\n3.1. Análisis univariado - Variables temporales - duración máxima de un evento de lluvia\")\n",
        "print(\"-\" * 90)\n",
        "\n",
        "# Ordenar por fecha\n",
        "df_ordenado = df_procesado.sort_values('FechaObservacion').reset_index(drop=True)\n",
        "\n",
        "# Calcular diferencias en minutos entre mediciones consecutivas\n",
        "df_ordenado['diff_minutos'] = df_ordenado['FechaObservacion'].diff().dt.total_seconds() / 60\n",
        "\n",
        "#Definición del lapso entre mediciones para considerarlas consecutivas\n",
        "lapso_minutos = 2\n",
        "\n",
        "df_ordenado['evento'] = (df_ordenado['diff_minutos'] > lapso_minutos).cumsum()\n",
        "duraciones_eventos = df_ordenado.groupby('evento')['FechaObservacion'].agg(['first', 'last', 'count'])\n",
        "\n",
        "duraciones_eventos['duracion_min'] = (duraciones_eventos['last'] - duraciones_eventos['first']).dt.total_seconds() / 60\n",
        "evento_max = duraciones_eventos.loc[duraciones_eventos['duracion_min'].idxmax()]\n",
        "\n",
        "print(f\"Evento de lluvia más largo: {evento_max['duracion_min']} minutos\")\n",
        "print(f\"Fecha inicio: {evento_max['first']}\")\n",
        "print(f\"Fecha final: {evento_max['last']}\\n\")\n",
        "\n",
        "\n"
      ],
      "metadata": {
        "colab": {
          "base_uri": "https://localhost:8080/"
        },
        "id": "krspjWHM465t",
        "outputId": "de275555-5d04-4090-d572-bc0b856b27cc"
      },
      "execution_count": 89,
      "outputs": [
        {
          "output_type": "stream",
          "name": "stdout",
          "text": [
            "\n",
            "3.1. Análisis univariado - Variables temporales - duración máxima de un evento de lluvia\n",
            "------------------------------------------------------------------------------------------\n",
            "Evento de lluvia más largo: 40.0 minutos\n",
            "Fehca inicio: 2025-06-23 01:46:00\n",
            "Fecha final: 2025-06-23 02:26:00\n",
            "\n"
          ]
        }
      ]
    },
    {
      "cell_type": "markdown",
      "source": [
        "**Etapa 4: Totalización por hora y día para hallar las máximas precipitaciones. 30%**\n",
        "\n",
        "- Totalice todas las mediciones de una fecha y hora para hallar el día y la hora en que más llovió. Por ejemplo, para el 4 de febrero de 2025 a las 5:00 pm, sume todas las mediciones que van entre las 5:00 pm y las 5:59 pm.\n",
        "\n",
        "- Totalice todas las mediciones de una fecha para hallar el día en que más llovió. Por ejemplo, para el 4 de febrero de 2025, sume todas las mediciones que van entre las 0:00 am y las 11:59 pm.\n"
      ],
      "metadata": {
        "id": "hz3rz3IqCf74"
      }
    },
    {
      "cell_type": "code",
      "source": [
        "# 4.1. Totales por  día\n",
        "\n",
        "print(\"\\n4.1. - Totales por fecha - Día con más lluvia\")\n",
        "print(\"-\" * 50)\n",
        "\n",
        "# Crear columna de fecha (sin hora) para agrupación\n",
        "df_procesado['Fecha'] = df_procesado['FechaObservacion'].dt.date\n",
        "\n",
        "\n",
        "lluvia_por_dia = df_procesado.groupby('Fecha')['ValorObservado'].sum().reset_index()\n",
        "dia_max_lluvia = lluvia_por_dia.loc[lluvia_por_dia['ValorObservado'].idxmax()]\n",
        "\n",
        "print(\"\\nDía con más lluvia:\")\n",
        "print(f\"Fecha: {dia_max_lluvia['Fecha']}\")\n",
        "print(f\"Precipitación total: {dia_max_lluvia['ValorObservado']:.2f} mm\")\n",
        "\n",
        "# 4.2. Totales por hora y día\n",
        "\n",
        "print(\"\\n4.2. - Totales por fecha y hora - Día con más lluvia\")\n",
        "print(\"-\" * 50)\n",
        "\n",
        "df_procesado['Hora'] = df_procesado['FechaObservacion'].dt.hour\n",
        "\n",
        "lluvia_por_hora = df_procesado.groupby(['Fecha', 'Hora'])['ValorObservado'].sum().reset_index()\n",
        "hora_max_lluvia = lluvia_por_hora.loc[lluvia_por_hora['ValorObservado'].idxmax()]\n",
        "\n",
        "print(\"\\nHora con más lluvia:\")\n",
        "print(f\"Fecha: {hora_max_lluvia['Fecha']}\")\n",
        "print(f\"Hora: {hora_max_lluvia['Hora']}\")\n",
        "print(f\"Precipitación total: {hora_max_lluvia['ValorObservado']:.2f} mm\")"
      ],
      "metadata": {
        "colab": {
          "base_uri": "https://localhost:8080/"
        },
        "id": "A72-zBCx8cIS",
        "outputId": "a2508ddd-d216-4daf-b381-97fd4e50a757"
      },
      "execution_count": 88,
      "outputs": [
        {
          "output_type": "stream",
          "name": "stdout",
          "text": [
            "\n",
            "4.1. - Totales por fecha - Día con más lluvia\n",
            "--------------------------------------------------\n",
            "\n",
            "Día con más lluvia:\n",
            "Fecha: 2025-06-23\n",
            "Precipitación total: 81.20 mm\n",
            "\n",
            "4.2. - Totales por fecha y hora - Día con más lluvia\n",
            "--------------------------------------------------\n",
            "\n",
            "Hora con más lluvia:\n",
            "Fecha: 2025-01-28\n",
            "Hora: 4\n",
            "Precipitación total: 55.80 mm\n"
          ]
        }
      ]
    },
    {
      "cell_type": "markdown",
      "source": [
        "\n",
        "**Etapa 5: Visualizaciones- 20%**\n",
        "\n",
        "Utilizando matplotlib, realice las siguientes visualizaciones como gráficos independientes, es decir, sin subdividir la zona de graficación en secciones. Todos los gráficos deben tener títulos descriptivos y ejes etiquetados.\n",
        "\n",
        "1.\tGráfico que permita entender cuáles son los valores más frecuentes de las mediciones.\n",
        "2.\tGráfico que permita entender cuales son las duraciones más frecuentes de los eventos de lluvia.\n"
      ],
      "metadata": {
        "id": "FnM_fASVLRHe"
      }
    },
    {
      "cell_type": "code",
      "source": [
        "# -----------------------------\n",
        "# ETAPA 5: VISUALIZACIONES\n",
        "# -----------------------------\n",
        "\n",
        "import matplotlib.pyplot as plt\n",
        "\n",
        "plt.figure(figsize=(8,5))\n",
        "plt.hist(df_procesado['ValorObservado'], bins=30, color='skyblue', edgecolor='black')\n",
        "plt.title('Frecuencia de valores de medición de lluvia')\n",
        "plt.xlabel('Valor observado (mm)')\n",
        "plt.ylabel('Frecuencia')\n",
        "plt.show()\n",
        "\n",
        "plt.figure(figsize=(8,5))\n",
        "plt.hist(duraciones_eventos['duracion_min'], bins=30, color='orange', edgecolor='black')\n",
        "plt.title('Frecuencia de duraciones de eventos de lluvia')\n",
        "plt.xlabel('Duración (minutos)')\n",
        "plt.ylabel('Cantidad de eventos')\n",
        "plt.show()"
      ],
      "metadata": {
        "colab": {
          "base_uri": "https://localhost:8080/",
          "height": 957
        },
        "id": "Mqth-AIWCe1U",
        "outputId": "c6f0157e-ce55-421e-b614-29846efd81a1"
      },
      "execution_count": 93,
      "outputs": [
        {
          "output_type": "display_data",
          "data": {
            "text/plain": [
              "<Figure size 800x500 with 1 Axes>"
            ],
            "image/png": "[encoded data removed]"
          },
          "metadata": {}
        },
        {
          "output_type": "display_data",
          "data": {
            "text/plain": [
              "<Figure size 800x500 with 1 Axes>"
            ],
            "image/png": "[encoded data removed]"
          },
          "metadata": {}
        }
      ]
    }
  ]
}